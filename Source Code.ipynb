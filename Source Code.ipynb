{
  "nbformat": 4,
  "nbformat_minor": 0,
  "metadata": {
    "colab": {
      "name": "TugasPemrograman1-PKB.ipynb",
      "provenance": [],
      "collapsed_sections": []
    },
    "kernelspec": {
      "name": "python3",
      "display_name": "Python 3"
    },
    "language_info": {
      "name": "python"
    }
  },
  "cells": [
    {
      "cell_type": "code",
      "execution_count": null,
      "metadata": {
        "id": "tmq84RYFHfTC"
      },
      "outputs": [],
      "source": [
        "# Import beberapa library\n",
        "import math\n",
        "import random\n",
        "import matplotlib.pyplot as matplot"
      ]
    },
    {
      "cell_type": "markdown",
      "source": [
        "**Generate populasi**\n",
        "\n",
        "\n",
        "fungsi yang membuat kromosom sepanjang chromosomeLength dan populasi sebanyak n dengan representasi biner dengan cara menggunakan metode random"
      ],
      "metadata": {
        "id": "lKUGpsovIKHK"
      }
    },
    {
      "cell_type": "code",
      "source": [
        "def generatePopulation(chromosomeLength, n):\n",
        "    # Inisiasi variabel populasi\n",
        "    population = []\n",
        "\n",
        "    # Looping sebanyak n populasi \n",
        "    for i in range(n):\n",
        "        # Inisiasi variabel kromosom\n",
        "        chromosome = []\n",
        "        \n",
        "        # Loop sebanyak length dari kromosom \n",
        "        for j in range(chromosomeLength):\n",
        "            # Random nilai biner antara 1 dan 0 untuk melakukan pengisian nilai kromosom\n",
        "            chromosome.append(random.randint(0,1))\n",
        "\n",
        "        # Memasukkan nilai kromosom ke dalam populasi\n",
        "        population.append(chromosome)\n",
        "\n",
        "    # Mengembalikan nilai populasi yang berisikan n kromosom\n",
        "    return population"
      ],
      "metadata": {
        "id": "IkKLiX0yId1u"
      },
      "execution_count": null,
      "outputs": []
    },
    {
      "cell_type": "markdown",
      "source": [
        "**PROSES DEKODE KROMOSOM**\n",
        "\n",
        "proses dekode kromosom mejadi 2 bagian yaitu x dan y."
      ],
      "metadata": {
        "id": "U_yRbgjlIl5G"
      }
    },
    {
      "cell_type": "code",
      "source": [
        "def chromosomeDecode(chromosome, intervalX, intervalY):\n",
        "    half_chromosome = len(chromosome)//2\n",
        "\n",
        "    #menghitung bagian kiri genotype\n",
        "    left_x = 0\n",
        "    chromosome_x = chromosome[:half_chromosome]\n",
        "    for i in range (1, half_chromosome+1):\n",
        "        left_x += chromosome_x[i-1] * (2**-i)\n",
        "    \n",
        "    #menghitung bagian kanan genotype\n",
        "    right_y = 0\n",
        "    chromosome_y = chromosome[half_chromosome:]\n",
        "    for i in range (1, half_chromosome+1):\n",
        "        right_y += chromosome_y[i-1] * (2**-i)\n",
        "\n",
        "    \n",
        "    sum_bot = sum([2 ** -(i) for i in range (1, half_chromosome + 1)])\n",
        "\n",
        "    #rumus menghitung genotype\n",
        "    x = intervalX[\"min\"] + (left_x * (intervalX[\"max\"] - intervalX[\"min\"]) / sum_bot)\n",
        "    y = intervalY[\"min\"] + (right_y * (intervalY[\"max\"] - intervalY[\"min\"]) / sum_bot)\n",
        "\n",
        "    return x,y"
      ],
      "metadata": {
        "id": "TzVCfNDcIwRw"
      },
      "execution_count": null,
      "outputs": []
    },
    {
      "cell_type": "markdown",
      "source": [
        "**Fitness function**\n",
        "\n",
        "fungsi mendapatkan nilai yang menunjukkan kualitas solusi (minimasi)."
      ],
      "metadata": {
        "id": "ZuFFgLgJI-PA"
      }
    },
    {
      "cell_type": "code",
      "source": [
        "def fitnessFunction(x, y):\n",
        "    # mengembalikkan nilai dari fungsi yang ada pada soal\n",
        "    f = (math.cos(x) + math.sin(y))/(pow(x,2) + pow(y,2))\n",
        "    return (1/(f+0.1))\n",
        "\n",
        "#domain(batas nilai) interval dari soal\n",
        "intervalX = {\"min\" : -5, \"max\" : 5}\n",
        "intervalY = {\"min\" : -5, \"max\" : 5}"
      ],
      "metadata": {
        "id": "VoUxOFIxJJXu"
      },
      "execution_count": null,
      "outputs": []
    },
    {
      "cell_type": "markdown",
      "source": [
        "**PROSES PEMILIHAN ORANG TUA**\n",
        "\n",
        "Seleksi 2 buah kromosom untuk dijadikan parent menggunakan Roulette Wheel Selection"
      ],
      "metadata": {
        "id": "gIOPHo68J3SJ"
      }
    },
    {
      "cell_type": "code",
      "source": [
        "def twoParentSelection(population, fitnessPopulation):\n",
        "    # Inisiasi variable temporary\n",
        "    temp = 0\n",
        "\n",
        "    for chromosome in range(len(population)):\n",
        "        temp += fitnessPopulation[chromosome]\n",
        "\n",
        "    rng = random.random()\n",
        "\n",
        "    chromosome = 0\n",
        "    while rng > 0 :\n",
        "        rng -= fitnessPopulation[chromosome] / temp\n",
        "        chromosome += 1\n",
        "    \n",
        "    return chromosome - 1"
      ],
      "metadata": {
        "id": "kPy9uuMPJ9QF"
      },
      "execution_count": null,
      "outputs": []
    },
    {
      "cell_type": "code",
      "source": [
        "def parentSelection(population):\n",
        "    n = len(population)\n",
        "\n",
        "    fitnessPopulation = []\n",
        "    for chromosome in range(n):\n",
        "        x, y = chromosomeDecode(population[chromosome], intervalX, intervalY)\n",
        "        fitnessPopulation.append(fitnessFunction(x, y))\n",
        "\n",
        "    # Normalisasi nilai fitness\n",
        "    min_ = min(fitnessPopulation)\n",
        "    max_ = max(fitnessPopulation)\n",
        "\n",
        "    for i in range(n):\n",
        "        fitnessPopulation[i] = (fitnessPopulation[i] - min_) / (max_ - min_)\n",
        "\n",
        "    # Melakukan Roulette Wheel untuk mendapatkan 2 parent\n",
        "    parent = []\n",
        "\n",
        "    while len(parent) != 2:\n",
        "        chromosome = twoParentSelection(population, fitnessPopulation)\n",
        "        parent.append(population[chromosome])\n",
        "\n",
        "    return parent"
      ],
      "metadata": {
        "id": "T8DfA7UxKC8I"
      },
      "execution_count": null,
      "outputs": []
    },
    {
      "cell_type": "markdown",
      "source": [
        "**PROSES CROSSOVER (PINDAH SILANG)**\n",
        "\n",
        "Proses untuk mencocokkan sub-solusi orang tua yang baik untuk menciptakan keturunan yang lebih baik."
      ],
      "metadata": {
        "id": "5hbKTxjiKKsv"
      }
    },
    {
      "cell_type": "code",
      "source": [
        "def singlePointCrossover(parent):\n",
        "    chromosomeLength = len(parent[0])\n",
        "\n",
        "    intersectionPoint = random.randint(0, chromosomeLength)\n",
        "    child = [0, 0]\n",
        "    child[0] = parent[0][:intersectionPoint] + parent[1][intersectionPoint:]\n",
        "    child[1] = parent[1][:intersectionPoint] + parent[0][intersectionPoint:]\n",
        "\n",
        "    return child"
      ],
      "metadata": {
        "id": "1WHMUSTDKNP0"
      },
      "execution_count": null,
      "outputs": []
    },
    {
      "cell_type": "markdown",
      "source": [
        "**PROSES MUTASI KROMOSOM**\n",
        "\n",
        "Untuk mensimulasikan efek kesalahan yang terjadi dengan probabilitas yang rendah selama proses duplikasi.\n"
      ],
      "metadata": {
        "id": "SJKvCxtMKPX1"
      }
    },
    {
      "cell_type": "code",
      "source": [
        "def chromosomeMutation(child, probability):\n",
        "    chromosomeLength = len(child[0])\n",
        "\n",
        "    for i in range(2):\n",
        "        for j in range(chromosomeLength):\n",
        "          if probability >= random.random():\n",
        "            child[i][j] = [0, 1][not child[i][j]]\n",
        "\n",
        "    return child"
      ],
      "metadata": {
        "id": "3dtkqdNXKRLo"
      },
      "execution_count": null,
      "outputs": []
    },
    {
      "cell_type": "markdown",
      "source": [
        "**MAIN PROGRAM**"
      ],
      "metadata": {
        "id": "-C1nLnbgK-qK"
      }
    },
    {
      "cell_type": "code",
      "source": [
        "bestGeneration = []\n",
        "crossoverProbability = 0.6\n",
        "mutationProbability = 0.05\n",
        "populationSize = 20\n",
        "chromosomeSize = 10\n",
        "elitismSize = 2\n",
        "generationSize = 20\n",
        "population = generatePopulation(chromosomeSize, populationSize)\n",
        "\n",
        "print(f\"Population Size         : {populationSize}\")\n",
        "print(f\"Chromosome Size         : {chromosomeSize}\")\n",
        "print(f\"Generation Size         : {generationSize}\")\n",
        "print(f\"Elitism Size            : {elitismSize}\")\n",
        "print(f\"Crossover Probability   : {crossoverProbability}\")\n",
        "print(f\"Mutation Probability    : {mutationProbability}\")\n",
        "\n",
        "print(\"================================== Main ====================================\")\n",
        "\n",
        "for i in range(generationSize):\n",
        "    fitnessPopulation = []\n",
        "\n",
        "    for chromosome in population:\n",
        "        x,y = chromosomeDecode(chromosome, intervalX, intervalY)\n",
        "        fitnessPopulation.append(fitnessFunction(x, y))\n",
        "\n",
        "    bestGeneration.append(max(fitnessPopulation))\n",
        "\n",
        "    sortedPopulation = [m for _, m in sorted(zip(fitnessPopulation, population), reverse=True)]\n",
        "\n",
        "\n",
        "    newPopulation = sortedPopulation[:elitismSize]\n",
        "\n",
        "    \n",
        "    print(f\"x = {x}, y = {y}\")\n",
        "    print(f\"Generasi {i + 1},  Best fitness: {bestGeneration[i]}\")\n",
        "    print(\"-------------------------------------------------\")\n",
        "\n",
        "\n",
        "    while len(newPopulation) != populationSize:\n",
        "\n",
        "        parent = parentSelection(population)\n",
        "\n",
        "        if crossoverProbability > random.random() :\n",
        "            child = chromosomeMutation(singlePointCrossover(parent), mutationProbability)\n",
        "        else:\n",
        "            child = parent + []\n",
        "\n",
        "        newPopulation = newPopulation + child\n",
        "\n",
        "    population = newPopulation + []"
      ],
      "metadata": {
        "id": "htZhrEObLBRq",
        "colab": {
          "base_uri": "https://localhost:8080/"
        },
        "outputId": "c35b5ad2-c246-47be-ad01-a41c4cf43914"
      },
      "execution_count": null,
      "outputs": [
        {
          "output_type": "stream",
          "name": "stdout",
          "text": [
            "Population Size         : 20\n",
            "Chromosome Size         : 10\n",
            "Generation Size         : 20\n",
            "Elitism Size            : 2\n",
            "Crossover Probability   : 0.6\n",
            "Mutation Probability    : 0.05\n",
            "================================== Main ====================================\n",
            "x = -0.16129032258064502, y = -4.67741935483871\n",
            "Generasi 1,  Best fitness: 28.84655628971235\n",
            "-------------------------------------------------\n",
            "x = 4.67741935483871, y = 1.451612903225806\n",
            "Generasi 2,  Best fitness: 28.84655628971235\n",
            "-------------------------------------------------\n",
            "x = -2.4193548387096775, y = -4.032258064516129\n",
            "Generasi 3,  Best fitness: 28.84655628971235\n",
            "-------------------------------------------------\n",
            "x = 2.741935483870968, y = 4.67741935483871\n",
            "Generasi 4,  Best fitness: 28.84655628971235\n",
            "-------------------------------------------------\n",
            "x = 0.48387096774193505, y = 3.387096774193548\n",
            "Generasi 5,  Best fitness: 32.355498523293726\n",
            "-------------------------------------------------\n",
            "x = 2.741935483870968, y = 4.67741935483871\n",
            "Generasi 6,  Best fitness: 35.01572950262775\n",
            "-------------------------------------------------\n",
            "x = 2.741935483870968, y = 4.67741935483871\n",
            "Generasi 7,  Best fitness: 35.01572950262775\n",
            "-------------------------------------------------\n",
            "x = -2.096774193548387, y = 4.67741935483871\n",
            "Generasi 8,  Best fitness: 35.01572950262775\n",
            "-------------------------------------------------\n",
            "x = 3.064516129032258, y = 4.35483870967742\n",
            "Generasi 9,  Best fitness: 35.01572950262775\n",
            "-------------------------------------------------\n",
            "x = -2.4193548387096775, y = 5.0\n",
            "Generasi 10,  Best fitness: 35.01572950262775\n",
            "-------------------------------------------------\n",
            "x = 2.741935483870968, y = 5.0\n",
            "Generasi 11,  Best fitness: 35.01572950262775\n",
            "-------------------------------------------------\n",
            "x = 3.387096774193548, y = 4.67741935483871\n",
            "Generasi 12,  Best fitness: 35.01572950262775\n",
            "-------------------------------------------------\n",
            "x = 3.064516129032258, y = 3.387096774193548\n",
            "Generasi 13,  Best fitness: 35.01572950262775\n",
            "-------------------------------------------------\n",
            "x = 3.064516129032258, y = 3.387096774193548\n",
            "Generasi 14,  Best fitness: 35.01572950262775\n",
            "-------------------------------------------------\n",
            "x = 2.741935483870968, y = 4.67741935483871\n",
            "Generasi 15,  Best fitness: 35.01572950262775\n",
            "-------------------------------------------------\n",
            "x = -1.129032258064516, y = 2.741935483870968\n",
            "Generasi 16,  Best fitness: 35.01572950262775\n",
            "-------------------------------------------------\n",
            "x = 3.064516129032258, y = 4.35483870967742\n",
            "Generasi 17,  Best fitness: 35.01572950262775\n",
            "-------------------------------------------------\n",
            "x = 3.064516129032258, y = 3.387096774193548\n",
            "Generasi 18,  Best fitness: 35.01572950262775\n",
            "-------------------------------------------------\n",
            "x = 3.064516129032258, y = 4.35483870967742\n",
            "Generasi 19,  Best fitness: 35.01572950262775\n",
            "-------------------------------------------------\n",
            "x = 3.064516129032258, y = 4.03225806451613\n",
            "Generasi 20,  Best fitness: 35.01572950262775\n",
            "-------------------------------------------------\n"
          ]
        }
      ]
    },
    {
      "cell_type": "markdown",
      "source": [
        "**Grafik pertumbuhan fitness function terbaik**"
      ],
      "metadata": {
        "id": "zbZ5KA6XLEmN"
      }
    },
    {
      "cell_type": "code",
      "source": [
        "matplot.figure(figsize=(15, 5))\n",
        "\n",
        "matplot.plot(range(1, generationSize + 1), bestGeneration)\n",
        "matplot.title(\"Perubahan fitness per-generasi\", loc='left', pad=20, fontsize=24, color='grey')\n",
        "matplot.xlabel(\"Generation\", fontsize = 24)\n",
        "matplot.ylabel(\"Best Fitness value\", fontsize=24)\n",
        "matplot.grid(linestyle=\"-\", linewidth=1, color='.25')\n",
        "matplot.legend(['Value'], loc='upper left')\n",
        "matplot.show()"
      ],
      "metadata": {
        "id": "63AdhnorLF6q",
        "colab": {
          "base_uri": "https://localhost:8080/",
          "height": 387
        },
        "outputId": "a1c07f96-464f-4ad4-eba0-fae2f5eacd69"
      },
      "execution_count": null,
      "outputs": [
        {
          "output_type": "display_data",
          "data": {
            "text/plain": [
              "<Figure size 1080x360 with 1 Axes>"
            ],
            "image/png": "[encoded data removed]"
          },
          "metadata": {
            "needs_background": "light"
          }
        }
      ]
    }
  ]
}